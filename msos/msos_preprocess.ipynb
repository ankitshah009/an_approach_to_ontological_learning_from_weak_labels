{
 "cells": [
  {
   "cell_type": "code",
   "execution_count": 1,
   "id": "822ce968",
   "metadata": {},
   "outputs": [],
   "source": [
    "import os\n",
    "import sys\n",
    "\n",
    "import numpy as np\n",
    "import pandas as pd\n",
    "\n",
    "from sklearn.model_selection import train_test_split"
   ]
  },
  {
   "cell_type": "code",
   "execution_count": 2,
   "id": "d51e360e",
   "metadata": {},
   "outputs": [],
   "source": [
    "sys.path.append('..')\n",
    "\n",
    "from msos.msos_preprocess import generate_label_name_map, mel_spectro_msos\n",
    "from utils import get_project_root"
   ]
  },
  {
   "cell_type": "code",
   "execution_count": 3,
   "id": "a45f3425",
   "metadata": {},
   "outputs": [],
   "source": [
    "DATA_DIR = os.path.join(get_project_root(), 'data/msos')\n",
    "\n",
    "LABEL_NAME_MAP_L1_DF = pd.read_csv(\n",
    "    os.path.join(DATA_DIR, 'label_name_map_l1.csv'))\n",
    "LABEL_NAME_MAP_L1 = dict(zip(LABEL_NAME_MAP_L1_DF['label'],\n",
    "                             LABEL_NAME_MAP_L1_DF['name']))\n",
    "LABEL_NAME_MAP_L2_DF = pd.read_csv(\n",
    "    os.path.join(DATA_DIR, 'label_name_map_l2.csv'))\n",
    "LABEL_NAME_MAP_L2 = dict(zip(LABEL_NAME_MAP_L2_DF['label'],\n",
    "                             LABEL_NAME_MAP_L2_DF['name']))\n",
    "\n",
    "LOGSHEET_DEV = pd.read_csv(os.path.join(DATA_DIR, 'Logsheet_Development.csv'))\n"
   ]
  },
  {
   "cell_type": "code",
   "execution_count": 4,
   "id": "2fa784cc",
   "metadata": {},
   "outputs": [
    {
     "name": "stdout",
     "output_type": "stream",
     "text": [
      "  Category Event     File  label_l1  label_l2\n",
      "0  Effects  Beep  TN7.wav         0         0\n",
      "1  Effects  Beep  RTS.wav         0         0\n",
      "2  Effects  Beep  NUO.wav         0         0\n",
      "3  Effects  Beep  CPU.wav         0         0\n",
      "4  Effects  Beep  SB2.wav         0         0\n"
     ]
    }
   ],
   "source": [
    "logsheet_df, label_name_map_l1, label_name_map_l2 = generate_label_name_map(os.path.join(DATA_DIR, 'Logsheet_Development.csv'))\n",
    "print(logsheet_df.head())"
   ]
  },
  {
   "cell_type": "code",
   "execution_count": 9,
   "id": "f169a57d",
   "metadata": {},
   "outputs": [],
   "source": [
    "data_dev, labels_dev = mel_spectro_msos(logsheet_df, DATA_DIR)\n"
   ]
  },
  {
   "cell_type": "code",
   "execution_count": 8,
   "id": "01f86f1b",
   "metadata": {},
   "outputs": [
    {
     "name": "stdout",
     "output_type": "stream",
     "text": [
      "(1500, 431, 128)\n",
      "[[1.13089200e-05 3.12628428e-04 1.07118487e-03 8.46658051e-02\n",
      "  2.36185268e-02 1.66730899e-02]\n",
      " [1.77054553e-05 2.46369455e-04 8.24516232e-04 1.20281905e-01\n",
      "  8.86434019e-01 1.18545580e+00]\n",
      " [6.02070242e-04 6.75385527e-04 1.02397159e-03 3.45195383e-02\n",
      "  1.70631611e+00 2.62378073e+00]\n",
      " [7.61008868e-03 6.40402362e-03 5.46289748e-03 1.47223426e-02\n",
      "  7.79110670e-01 1.61585546e+00]\n",
      " [7.35904649e-03 7.01652654e-03 8.17175768e-03 1.31903065e-03\n",
      "  1.02061838e-01 5.07537663e-01]\n",
      " [3.98447132e-03 2.92373705e-03 1.35473930e-03 6.03581732e-03\n",
      "  4.11186507e-03 1.06369138e-01]]\n",
      "(1500, 2)\n",
      "[[0 0]\n",
      " [0 0]\n",
      " [0 0]\n",
      " [0 0]\n",
      " [0 0]\n",
      " [0 0]]\n"
     ]
    }
   ],
   "source": [
    "print(data_dev.shape)\n",
    "print(data_dev[0][:6, :6])\n",
    "print(labels_dev.shape)\n",
    "print(labels_dev[:6])\n"
   ]
  },
  {
   "cell_type": "code",
   "execution_count": 9,
   "id": "f3cc9ba2",
   "metadata": {},
   "outputs": [],
   "source": [
    "data_train, data_val, labels_train, labels_val = train_test_split(data_dev, labels_dev, train_size=0.8, random_state=42)"
   ]
  },
  {
   "cell_type": "code",
   "execution_count": 10,
   "id": "6fe4f0af",
   "metadata": {},
   "outputs": [
    {
     "name": "stdout",
     "output_type": "stream",
     "text": [
      "(1200, 431, 128)\n",
      "(300, 431, 128)\n",
      "(1200, 2)\n",
      "(300, 2)\n"
     ]
    }
   ],
   "source": [
    "print(data_train.shape)\n",
    "print(data_val.shape)\n",
    "print(labels_train.shape)\n",
    "print(labels_val.shape)\n"
   ]
  },
  {
   "cell_type": "code",
   "execution_count": 11,
   "id": "db59856c",
   "metadata": {},
   "outputs": [],
   "source": [
    "np.save(os.path.join(get_project_root(), 'data/msos_train_data.npy'), data_train)\n",
    "np.save(os.path.join(get_project_root(), 'data/msos_val_data.npy'), data_val)\n",
    "np.save(os.path.join(get_project_root(), 'data/msos_train_labels_1.npy'), labels_train[:, 0])\n",
    "np.save(os.path.join(get_project_root(), 'data/msos_train_labels_2.npy'), labels_train[:, 1])\n",
    "np.save(os.path.join(get_project_root(), 'data/msos_val_labels_1.npy'), labels_val[:, 0])\n",
    "np.save(os.path.join(get_project_root(), 'data/msos_val_labels_2.npy'), labels_val[:, 1])\n"
   ]
  },
  {
   "cell_type": "code",
   "execution_count": 3,
   "id": "c135a1c8",
   "metadata": {},
   "outputs": [],
   "source": [
    "logsheet_eval_df, _, _ = generate_label_name_map(os.path.join(DATA_DIR, 'Logsheet_EvaluationMaster.csv'))\n",
    "data_eval, labels_eval = mel_spectro_msos(logsheet_eval_df, DATA_DIR, eval=True)\n",
    "np.save(os.path.join(get_project_root(), 'data/msos_test_data.npy'), data_eval)\n",
    "np.save(os.path.join(get_project_root(), 'data/msos_test_labels_1.npy'), labels_eval[:, 0])\n",
    "np.save(os.path.join(get_project_root(), 'data/msos_test_labels_2.npy'), labels_eval[:, 1])\n"
   ]
  }
 ],
 "metadata": {
  "kernelspec": {
   "display_name": "Python 3 (ipykernel)",
   "language": "python",
   "name": "python3"
  },
  "language_info": {
   "codemirror_mode": {
    "name": "ipython",
    "version": 3
   },
   "file_extension": ".py",
   "mimetype": "text/x-python",
   "name": "python",
   "nbconvert_exporter": "python",
   "pygments_lexer": "ipython3",
   "version": "3.8.11"
  }
 },
 "nbformat": 4,
 "nbformat_minor": 5
}
