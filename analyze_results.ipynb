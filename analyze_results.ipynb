{
 "cells": [
  {
   "cell_type": "code",
   "execution_count": 73,
   "id": "ba21e4cf-52a4-4ce2-8253-ec823bc443ed",
   "metadata": {},
   "outputs": [],
   "source": [
    "# Import libraries\n",
    "\n",
    "import pandas as pd\n",
    "import numpy as np\n",
    "import matplotlib.pyplot as plt\n"
   ]
  },
  {
   "cell_type": "code",
   "execution_count": 81,
   "id": "d93493c8-76b7-443e-bc0f-323cf07f0a7c",
   "metadata": {},
   "outputs": [],
   "source": [
    "# Analyze test results\n",
    "results_dir = './results/'\n",
    "\n",
    "df_preds1 = pd.read_csv(results_dir + 'predictions_1.csv')\n",
    "df_targets1 = pd.read_csv(results_dir + 'targets_1.csv')[::10]\n",
    "\n",
    "df_preds2 = pd.read_csv(results_dir + 'predictions_2.csv')\n",
    "df_targets2 = pd.read_csv(results_dir + 'targets_2.csv')[::10]\n",
    "\n",
    "df_preds1_avg = df_preds1.groupby(np.arange(len(df_preds1)) // 10).mean()\n",
    "df_preds2_avg = df_preds2.groupby(np.arange(len(df_preds2)) // 10).mean()\n",
    "\n",
    "\n",
    "thresh = np.arange(0, 1, 0.005)\n",
    "\n",
    "TPR = np.zeros((len(thresh), len(df_preds1.columns)))\n",
    "FPR = np.zeros((len(thresh), len(df_preds1.columns)))\n",
    "\n",
    "TNR = np.zeros((len(thresh), len(df_preds1.columns)))\n",
    "FNR = np.zeros((len(thresh), len(df_preds1.columns)))\n",
    "for i in range(len(thresh)):\n",
    "    preds1 = (df_preds1_avg > thresh[i]).astype('int')\n",
    "    # print(preds1)\n",
    "\n",
    "    TPR[i] = preds1[df_targets1 == 1].sum(axis=0)/df_targets1.sum(axis=0)\n",
    "    FPR[i] = preds1[df_targets1 == 0].sum(axis=0)/(1 - df_targets1).sum(axis=0)\n",
    "\n",
    "    TNR[i] = (1 - preds1[df_targets1 == 0]).sum(axis=0)/(1 - df_targets1).sum(axis=0)\n",
    "    FNR[i] = (1 - preds1[df_targets1 == 1]).sum(axis=0)/df_targets1.sum(axis=0)\n"
   ]
  },
  {
   "cell_type": "code",
   "execution_count": 87,
   "id": "077d0e8c-b552-43b8-ac91-f2ef4ac47826",
   "metadata": {},
   "outputs": [
    {
     "data": {
      "image/png": "[encoded data removed]",
      "text/plain": [
       "<Figure size 432x288 with 1 Axes>"
      ]
     },
     "metadata": {
      "needs_background": "light"
     },
     "output_type": "display_data"
    }
   ],
   "source": [
    "plt.figure()\n",
    "plt.scatter(FPR[:, 2], TPR[:, 2])\n",
    "plt.show()"
   ]
  },
  {
   "cell_type": "code",
   "execution_count": 84,
   "id": "b37d8485-f69a-4896-ba39-8dbc587a80a0",
   "metadata": {},
   "outputs": [
    {
     "data": {
      "text/plain": [
       "array([0.        , 0.        , 0.15555556, 0.07142857, 0.        ,\n",
       "       0.        , 0.        , 0.        , 0.        , 0.        ,\n",
       "       0.        , 0.        , 0.        , 0.375     , 0.16666667,\n",
       "       0.        , 0.4185022 , 0.        , 0.        , 0.        ,\n",
       "       0.02040816, 0.15384615, 0.        , 0.        , 0.        ,\n",
       "       0.4040404 , 0.        , 0.        , 0.        , 0.        ,\n",
       "       0.        , 0.        , 0.25      , 0.        , 0.        ,\n",
       "       0.        , 0.05963303, 0.        , 0.125     , 0.        ,\n",
       "       0.        , 0.        ])"
      ]
     },
     "execution_count": 84,
     "metadata": {},
     "output_type": "execute_result"
    }
   ],
   "source": [
    "TPR[100]"
   ]
  },
  {
   "cell_type": "code",
   "execution_count": 85,
   "id": "7e5fd9bc-ca31-4671-a381-e10f7855e320",
   "metadata": {},
   "outputs": [
    {
     "data": {
      "text/plain": [
       "array([0.00104822, 0.        , 0.        , 0.        , 0.        ,\n",
       "       0.        , 0.        , 0.        , 0.        , 0.        ,\n",
       "       0.        , 0.        , 0.        , 0.        , 0.000999  ,\n",
       "       0.        , 0.21075903, 0.00050684, 0.        , 0.        ,\n",
       "       0.        , 0.00382514, 0.        , 0.        , 0.        ,\n",
       "       0.0132108 , 0.        , 0.        , 0.        , 0.        ,\n",
       "       0.        , 0.        , 0.00147783, 0.        , 0.        ,\n",
       "       0.        , 0.0021978 , 0.        , 0.        , 0.        ,\n",
       "       0.        , 0.        ])"
      ]
     },
     "execution_count": 85,
     "metadata": {},
     "output_type": "execute_result"
    }
   ],
   "source": [
    "FPR[100]"
   ]
  },
  {
   "cell_type": "code",
   "execution_count": null,
   "id": "cac084a1-e061-4ec8-826b-c516dbbc8f90",
   "metadata": {},
   "outputs": [],
   "source": []
  }
 ],
 "metadata": {
  "kernelspec": {
   "display_name": "Python 3 (ipykernel)",
   "language": "python",
   "name": "python3"
  },
  "language_info": {
   "codemirror_mode": {
    "name": "ipython",
    "version": 3
   },
   "file_extension": ".py",
   "mimetype": "text/x-python",
   "name": "python",
   "nbconvert_exporter": "python",
   "pygments_lexer": "ipython3",
   "version": "3.9.7"
  }
 },
 "nbformat": 4,
 "nbformat_minor": 5
}
